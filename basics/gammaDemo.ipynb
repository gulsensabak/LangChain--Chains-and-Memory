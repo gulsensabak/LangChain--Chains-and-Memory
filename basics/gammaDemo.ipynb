{
 "cells": [
  {
   "cell_type": "code",
   "execution_count": 4,
   "metadata": {},
   "outputs": [
    {
     "name": "stdout",
     "output_type": "stream",
     "text": [
      "content='The capital of Turkey is Ankara. It is the political, economic, and cultural center of Turkey.' additional_kwargs={} response_metadata={'model': 'gemma:2b', 'created_at': '2025-02-20T09:51:55.8326297Z', 'done': True, 'done_reason': 'stop', 'total_duration': 617579600, 'load_duration': 38365500, 'prompt_eval_count': 29, 'prompt_eval_duration': 8000000, 'eval_count': 21, 'eval_duration': 569000000, 'message': Message(role='assistant', content='', images=None, tool_calls=None)} id='run-81712cde-5df4-4efb-b9e9-804537c1f312-0' usage_metadata={'input_tokens': 29, 'output_tokens': 21, 'total_tokens': 50}\n",
      "The capital of Turkey is Ankara. It is the political, economic, and cultural center of Turkey.\n"
     ]
    }
   ],
   "source": [
    "# import ChatOllama to interact with open source models\n",
    "from langchain_ollama import ChatOllama\n",
    "\n",
    "# create model\n",
    "llm = ChatOllama(model = \"gemma:2b\")\n",
    "\n",
    "# get the question from user\n",
    "prompt = input(\"enter the question: \")\n",
    "\n",
    "# get the result returning from llm\n",
    "response = llm.invoke(prompt)\n",
    "\n",
    "# print the result returning from llm\n",
    "print(response)\n",
    "\n",
    "\n",
    "# get the answer of the question only\n",
    "print(response.content)"
   ]
  }
 ],
 "metadata": {
  "kernelspec": {
   "display_name": "Python 3",
   "language": "python",
   "name": "python3"
  },
  "language_info": {
   "codemirror_mode": {
    "name": "ipython",
    "version": 3
   },
   "file_extension": ".py",
   "mimetype": "text/x-python",
   "name": "python",
   "nbconvert_exporter": "python",
   "pygments_lexer": "ipython3",
   "version": "3.11.9"
  }
 },
 "nbformat": 4,
 "nbformat_minor": 2
}
