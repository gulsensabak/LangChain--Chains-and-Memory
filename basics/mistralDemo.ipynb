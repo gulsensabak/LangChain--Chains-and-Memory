{
 "cells": [
  {
   "cell_type": "code",
   "execution_count": 3,
   "metadata": {},
   "outputs": [
    {
     "name": "stdout",
     "output_type": "stream",
     "text": [
      "content=\" The capital of India is New Delhi. It serves as the center of the executive, legislative, and judicial branches of the Indian government. However, it's important to note that it was officially declared a city on December 1, 1991, but Delhi has been acting as the capital under various names since 1947 when India gained independence from British rule.\" additional_kwargs={} response_metadata={'model': 'mistral', 'created_at': '2025-02-20T10:08:35.0717301Z', 'done': True, 'done_reason': 'stop', 'total_duration': 2234857300, 'load_duration': 9078600, 'prompt_eval_count': 11, 'prompt_eval_duration': 38000000, 'eval_count': 81, 'eval_duration': 2183000000, 'message': Message(role='assistant', content='', images=None, tool_calls=None)} id='run-02fcf3ec-1510-4e77-b2c5-c10d08f644ba-0' usage_metadata={'input_tokens': 11, 'output_tokens': 81, 'total_tokens': 92}\n",
      " The capital of India is New Delhi. It serves as the center of the executive, legislative, and judicial branches of the Indian government. However, it's important to note that it was officially declared a city on December 1, 1991, but Delhi has been acting as the capital under various names since 1947 when India gained independence from British rule.\n"
     ]
    }
   ],
   "source": [
    "from langchain_ollama import ChatOllama\n",
    "\n",
    "# create model\n",
    "llm = ChatOllama(model = \"mistral\")\n",
    "\n",
    "# get the question from user\n",
    "prompt = input(\"enter the question: \")\n",
    "\n",
    "# get the response from model\n",
    "response = llm.invoke(prompt)\n",
    "\n",
    "# get the response from model\n",
    "print(response)\n",
    "\n",
    "# print only the answer of the question\n",
    "print(response.content)"
   ]
  }
 ],
 "metadata": {
  "kernelspec": {
   "display_name": "Python 3",
   "language": "python",
   "name": "python3"
  },
  "language_info": {
   "codemirror_mode": {
    "name": "ipython",
    "version": 3
   },
   "file_extension": ".py",
   "mimetype": "text/x-python",
   "name": "python",
   "nbconvert_exporter": "python",
   "pygments_lexer": "ipython3",
   "version": "3.11.9"
  }
 },
 "nbformat": 4,
 "nbformat_minor": 2
}
