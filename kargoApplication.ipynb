{
 "cells": [
  {
   "cell_type": "code",
   "execution_count": 1,
   "metadata": {},
   "outputs": [],
   "source": [
    "from dotenv import load_dotenv\n",
    "import os\n",
    "import openai\n",
    "import json\n",
    "\n",
    "load_dotenv()\n",
    "openai.api_key = os.environ.get(\"OPENAI_API_KEY\")"
   ]
  },
  {
   "cell_type": "code",
   "execution_count": 3,
   "metadata": {},
   "outputs": [
    {
     "name": "stderr",
     "output_type": "stream",
     "text": [
      "C:\\Users\\gulse\\AppData\\Local\\Temp\\ipykernel_19900\\3735102400.py:7: LangChainDeprecationWarning: The class `ChatOpenAI` was deprecated in LangChain 0.0.10 and will be removed in 1.0. An updated version of the class exists in the :class:`~langchain-openai package and should be used instead. To use it run `pip install -U :class:`~langchain-openai` and import as `from :class:`~langchain_openai import ChatOpenAI``.\n",
      "  llm = ChatOpenAI(model_name=\"gpt-3.5-turbo\", temperature=0.5)\n"
     ]
    },
    {
     "name": "stdout",
     "output_type": "stream",
     "text": [
      "content='Merhaba, kusura bakmayın. Kargonuzun durumunu kontrol edebilmem için size takip numaranızı rica edebilir miyim?' additional_kwargs={} response_metadata={'token_usage': {'completion_tokens': 42, 'prompt_tokens': 53, 'total_tokens': 95, 'prompt_tokens_details': {'cached_tokens': 0, 'audio_tokens': 0}, 'completion_tokens_details': {'reasoning_tokens': 0, 'audio_tokens': 0, 'accepted_prediction_tokens': 0, 'rejected_prediction_tokens': 0}}, 'model_name': 'gpt-3.5-turbo', 'system_fingerprint': None, 'finish_reason': 'stop', 'logprobs': None} id='run-6aef4c5f-3c70-44ed-bf28-d31ac59cd57d-0'\n",
      "content='Kesinlikle! Takip numaranızı kontrol ediyorum ve size en kısa sürede bilgi vereceğim. Lütfen biraz bekleyin.' additional_kwargs={} response_metadata={'token_usage': {'completion_tokens': 42, 'prompt_tokens': 111, 'total_tokens': 153, 'prompt_tokens_details': {'cached_tokens': 0, 'audio_tokens': 0}, 'completion_tokens_details': {'reasoning_tokens': 0, 'audio_tokens': 0, 'accepted_prediction_tokens': 0, 'rejected_prediction_tokens': 0}}, 'model_name': 'gpt-3.5-turbo', 'system_fingerprint': None, 'finish_reason': 'stop', 'logprobs': None} id='run-7ab022e9-555e-43ba-bb6e-2995f4fcffbb-0'\n"
     ]
    }
   ],
   "source": [
    "from langchain_community.chat_models import ChatOpenAI\n",
    "from langchain.prompts import PromptTemplate\n",
    "from langchain.memory import ConversationBufferMemory\n",
    "from langchain.schema.runnable import RunnablePassthrough\n",
    "\n",
    "# OpenAI modelini başlat (güncellenmiş versiyon)\n",
    "llm = ChatOpenAI(model_name=\"gpt-3.5-turbo\", temperature=0.5)\n",
    "\n",
    "# Prompt Template tanımla\n",
    "prompt = PromptTemplate(\n",
    "    input_variables=[\"history\", \"question\"],\n",
    "    template=\"Sen bir müşteri destek asistanısın. Daha önceki konuşmalar: {history}\\n\\nKullanıcı: {question}\\nYanıtın:\"\n",
    ")\n",
    "\n",
    "# Güncellenmiş Memory yapısını kullan\n",
    "memory = ConversationBufferMemory(return_messages=True)\n",
    "\n",
    "# Chain oluştur (güncel metod ile)\n",
    "chain = prompt | llm\n",
    "\n",
    "# Kullanıcıdan gelen girdilere yanıt ver\n",
    "print(chain.invoke({\"history\": memory.load_memory_variables({})[\"history\"], \"question\": \"Merhaba, kargom hala gelmedi.\"}))\n",
    "\n",
    "memory.save_context({\"question\": \"Merhaba, kargom hala gelmedi.\"}, {\"output\": \"Lütfen takip numaranızı paylaşın.\"})\n",
    "\n",
    "print(chain.invoke({\"history\": memory.load_memory_variables({})[\"history\"], \"question\": \"Takip numaram 12345, nerede olduğunu görebilir misin?\"}))\n"
   ]
  },
  {
   "cell_type": "code",
   "execution_count": null,
   "metadata": {},
   "outputs": [],
   "source": []
  }
 ],
 "metadata": {
  "kernelspec": {
   "display_name": "Python 3",
   "language": "python",
   "name": "python3"
  },
  "language_info": {
   "codemirror_mode": {
    "name": "ipython",
    "version": 3
   },
   "file_extension": ".py",
   "mimetype": "text/x-python",
   "name": "python",
   "nbconvert_exporter": "python",
   "pygments_lexer": "ipython3",
   "version": "3.11.9"
  }
 },
 "nbformat": 4,
 "nbformat_minor": 2
}
